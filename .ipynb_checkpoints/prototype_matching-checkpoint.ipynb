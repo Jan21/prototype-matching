{
 "cells": [
  {
   "cell_type": "code",
   "execution_count": 1,
   "metadata": {},
   "outputs": [],
   "source": [
    "import torch\n",
    "import pickle\n",
    "test_data = torch.load('data/test.pth')\n",
    "with open('data/constraint.pkl','rb') as f:\n",
    "    constraints = pickle.load(f) "
   ]
  },
  {
   "cell_type": "code",
   "execution_count": 31,
   "metadata": {},
   "outputs": [],
   "source": [
    "import numpy as np"
   ]
  },
  {
   "cell_type": "code",
   "execution_count": 2,
   "metadata": {},
   "outputs": [
    {
     "data": {
      "text/plain": [
       "1000"
      ]
     },
     "execution_count": 2,
     "metadata": {},
     "output_type": "execute_result"
    }
   ],
   "source": [
    "len(test_data)"
   ]
  },
  {
   "cell_type": "raw",
   "metadata": {},
   "source": [
    "\n",
    "1. each p_i gives vote v_ijk to to each q_jk, where i indexes number of points, j number of prototypes and k number of points in prototype j\n",
    "\n",
    "2. if v_ijk > thresh1, add link e_ijk from q_jk to p_i with weight v_ijk\n",
    "\n",
    "3. for each q_jk get the max weight v_ijk and propagate it to relations r_kn it is part of by a message mr_jkn.\n",
    "\n",
    "4. For each rel r_kn sum the incomming messages mr_jkn. If the sum is bellow some threshold, discard this relation.\n",
    "\n",
    "5. For the relations that were above some threshold, send a message to their prototypes mp_kn.\n",
    "\n",
    "5. for each prototype k, sum the messages mp_kn. If its bellow some threshold, discard the prototype and also the relations with the points q_jk.\n",
    "\n",
    "6. for rels that remained find the best assignment for each rel, to get a score for this rel.\n",
    "\n",
    "7. propagate the scores to the prototypes to see if they are above some threshold. Discard the prototypes which are below some threshold\n",
    "\n",
    "8. for the remaining prototypes and relations, find the best match and get its score.\n",
    "\n",
    "9. choose the prototype with the best score."
   ]
  },
  {
   "cell_type": "code",
   "execution_count": 50,
   "metadata": {},
   "outputs": [
    {
     "data": {
      "text/plain": [
       "torch.Size([50, 1024])"
      ]
     },
     "execution_count": 50,
     "metadata": {},
     "output_type": "execute_result"
    }
   ],
   "source": [
    "flat_constraint_features = []\n",
    "for cl in constraints['features']:\n",
    "    for f in cl:\n",
    "        flat_constraint_features.append(f)\n",
    "const_t = torch.stack(flat_constraint_features)\n",
    "const_t.shape"
   ]
  },
  {
   "cell_type": "code",
   "execution_count": 125,
   "metadata": {},
   "outputs": [],
   "source": [
    "import scipy.linalg"
   ]
  },
  {
   "cell_type": "code",
   "execution_count": 130,
   "metadata": {},
   "outputs": [
    {
     "data": {
      "text/plain": [
       "(31, 50)"
      ]
     },
     "execution_count": 130,
     "metadata": {},
     "output_type": "execute_result"
    }
   ],
   "source": [
    "from scipy.linalg import block_diag\n",
    "def get_el_2_const_matrix_for_clas(cl):\n",
    "    triang,triple = constraints['constraints'][cl]\n",
    "    rows = []\n",
    "\n",
    "    for c in triang:\n",
    "        row = np.zeros(10)\n",
    "        for i in  c[0]:\n",
    "            row[int(i)-1] = 1\n",
    "        rows.append(row)\n",
    "    for c in triple:\n",
    "        row = np.zeros(10)\n",
    "        for i in  c[0]:\n",
    "            row[int(i)-1] = 1\n",
    "        rows.append(row)\n",
    "    return np.stack(rows)\n",
    "    \n",
    "def get_el_2_const_matrix():\n",
    "    blocks = []\n",
    "    for i in range(5):\n",
    "        block = get_el_2_const_matrix_for_clas(i)\n",
    "        blocks.append(block)\n",
    "    return block_diag(*blocks)\n",
    "get_el_2_const_matrix().shape\n",
    "        "
   ]
  },
  {
   "cell_type": "code",
   "execution_count": 131,
   "metadata": {},
   "outputs": [
    {
     "data": {
      "text/plain": [
       "(5, 31)"
      ]
     },
     "execution_count": 131,
     "metadata": {},
     "output_type": "execute_result"
    }
   ],
   "source": [
    "def get_const_2_cl_matrix():\n",
    "    blocks = []\n",
    "    for i in range(5):\n",
    "        triang,triple = constraints['constraints'][i]\n",
    "        num_c = len(triang)+len(triple)\n",
    "        block = np.zeros((5,num_c))\n",
    "        block[i,:] = 1\n",
    "        blocks.append(block)\n",
    "    return np.concatenate(blocks,axis=1)\n",
    "get_const_2_cl_matrix().shape"
   ]
  },
  {
   "cell_type": "code",
   "execution_count": 181,
   "metadata": {},
   "outputs": [
    {
     "data": {
      "text/plain": [
       "31"
      ]
     },
     "execution_count": 181,
     "metadata": {},
     "output_type": "execute_result"
    }
   ],
   "source": [
    "all_c = []\n",
    "for i in range(5):\n",
    "    triang,triple = constraints['constraints'][i]\n",
    "    cs = triang+triple\n",
    "    for c in cs:\n",
    "        renamed = [int(s)-1 + 10*i for s in c[0] ]\n",
    "        all_c.append((renamed,c[1],c[2],i))\n",
    "len(all_c)"
   ]
  },
  {
   "cell_type": "code",
   "execution_count": 43,
   "metadata": {},
   "outputs": [
    {
     "data": {
      "text/plain": [
       "([(['3', '4', '1'],\n",
       "   (1.0, 0.7071067811865476, 0.7071067811865476),\n",
       "   [[-1, 2], [1, 2], [0, 3]]),\n",
       "  (['5', '6', '4'],\n",
       "   (1.0, 0.4472135954999579, 0.6324555320336759),\n",
       "   [[3, 2], [0, 1], [1, 2]]),\n",
       "  (['3', '6', '4'],\n",
       "   (0.7071067811865476, 0.7071067811865476, 1.0),\n",
       "   [[-1, 2], [0, 1], [1, 2]]),\n",
       "  (['2', '7', '6'],\n",
       "   (1.0, 0.2773500981126146, 0.8770580193070293),\n",
       "   [[-3, 2], [0, 0], [0, 1]]),\n",
       "  (['5', '7', '6'],\n",
       "   (1.0, 0.2773500981126146, 0.8770580193070293),\n",
       "   [[3, 2], [0, 0], [0, 1]]),\n",
       "  (['9', '10', '8'],\n",
       "   (1.0, 0.7071067811865476, 0.7071067811865476),\n",
       "   [[-1, -2], [1, -2], [0, -1]]),\n",
       "  (['3', '2', '6'],\n",
       "   (0.6324555320336759, 1.0, 0.4472135954999579),\n",
       "   [[-1, 2], [-3, 2], [0, 1]])],\n",
       " [([6, 7, 8], (1.0, 1.0), [[0, 1], [0, 0], [0, -1]])])"
      ]
     },
     "execution_count": 43,
     "metadata": {},
     "output_type": "execute_result"
    }
   ],
   "source": [
    "constraints['constraints'][-1]"
   ]
  },
  {
   "cell_type": "code",
   "execution_count": 123,
   "metadata": {},
   "outputs": [
    {
     "data": {
      "text/plain": [
       "torch.Size([31, 10])"
      ]
     },
     "execution_count": 123,
     "metadata": {},
     "output_type": "execute_result"
    }
   ],
   "source": [
    "el_to_const.shape"
   ]
  },
  {
   "cell_type": "code",
   "execution_count": 133,
   "metadata": {},
   "outputs": [],
   "source": [
    "el_to_const = torch.from_numpy(get_el_2_const_matrix().astype('float32')) \n",
    "const_to_class = torch.from_numpy(get_const_2_cl_matrix().astype('float32'))\n",
    "clas_to_const = const_to_class.T"
   ]
  },
  {
   "cell_type": "code",
   "execution_count": 117,
   "metadata": {},
   "outputs": [],
   "source": [
    "pos,features,labels = list(zip(*test_data[0]['points']))"
   ]
  },
  {
   "cell_type": "code",
   "execution_count": 118,
   "metadata": {},
   "outputs": [],
   "source": [
    "feature_matrix_norm = feature_matrix / feature_matrix.norm(dim=0)\n",
    "const_t_norm = (const_t.transpose(0,1)/const_t.norm(dim=1)).transpose(0,1)\n",
    "res = torch.mm(const_t_norm, feature_matrix_norm)"
   ]
  },
  {
   "cell_type": "markdown",
   "metadata": {},
   "source": [
    "## thresholds"
   ]
  },
  {
   "cell_type": "code",
   "execution_count": 179,
   "metadata": {},
   "outputs": [],
   "source": [
    "t1 = 0.3\n",
    "t2 = 1.2\n",
    "t3 = 5\n",
    "t4 = 3\n",
    "t5 = 5"
   ]
  },
  {
   "cell_type": "code",
   "execution_count": 187,
   "metadata": {},
   "outputs": [
    {
     "data": {
      "text/plain": [
       "tensor([1.8251, 2.0306, 1.7731, 2.3600, 2.2419, 2.0814, 2.1314, 1.9330, 0.0000,\n",
       "        0.0000, 0.0000, 0.0000, 0.0000, 0.0000, 0.0000, 0.0000, 0.0000, 0.0000,\n",
       "        0.0000, 0.0000, 0.0000, 0.0000, 0.0000, 1.3925, 1.4520, 1.4010, 1.3415,\n",
       "        0.0000, 1.2880, 1.4658, 1.3978])"
      ]
     },
     "execution_count": 187,
     "metadata": {},
     "output_type": "execute_result"
    }
   ],
   "source": [
    "t1 = 0.3\n",
    "\n",
    "\n",
    "res_masked = res.masked_fill(res < t1,0)\n",
    "#torch.sort(res_masked,dim=1,descending=True)\n",
    "max_vals,max_vals_ix = res_masked.max(dim=1)\n",
    "cons_score = torch.mv(el_to_const,max_vals)\n",
    "cons_score_masked = cons_score.masked_fill(cons_score < t2,0)\n",
    "clas_score = torch.mv(const_to_class,cons_score_masked)\n",
    "clas_score_masked = (clas_score > t3).float()\n",
    "const_back = torch.mv(clas_to_const,clas_score_masked)\n",
    "filtered_const = const_back * cons_score_masked\n",
    "filtered_const  "
   ]
  },
  {
   "cell_type": "code",
   "execution_count": 227,
   "metadata": {},
   "outputs": [],
   "source": [
    "res_bool = res > t1\n",
    "counts = torch.sum(res_bool.float(),dim=1).long() \n",
    "sorted_res_masked,ixs = torch.sort(res_masked,dim=1,descending=True)\n",
    "\n",
    "choosed_points = []\n",
    "for i,c in enumerate(counts):\n",
    "    scrs = sorted_res_masked[i][:c]\n",
    "    ps = np.array(pos)[ixs[i][:c].numpy()]\n",
    "    choosed_points.append((scrs,ps))\n",
    "choosed_points_np = np.array(choosed_points)"
   ]
  },
  {
   "cell_type": "code",
   "execution_count": null,
   "metadata": {},
   "outputs": [],
   "source": [
    "def calcDist(p1,p2):\n",
    "    x1,y1 = p1\n",
    "    x2,y2 = p2\n",
    "    dist = math.sqrt((x2 - x1)**2 + (y2 - y1)**2)\n",
    "    return dist\n",
    "\n",
    "def get_score(p1,p2,p3,c):\n",
    "    ab = calcDist(p1,p2)\n",
    "    bc = calcDist(p2,p3)\n",
    "    ca = calcDist(p3,p1)\n",
    "    max_d = np.max([ab,bc,ca])\n",
    "    abn,bcn,can = ab/max_d,bc/max_d,ca/max_d\n",
    "    mismatch = (abn - c[0])**2 + (bcn - c[1])**2 + (can - c[2])**2\n",
    "    if mismatch > 0.2:\n",
    "        return 0\n",
    "    else: return 1\n",
    "\n",
    "def get_best_score(candidates,c):\n",
    "    # rewrite for better effectivity\n",
    "    old_score = 0\n",
    "    for i1,_ in enumerate(candidates[0][0]):\n",
    "        s1,p1 = candidates[0][0][i1],candidates[0][1][i1]\n",
    "        for i2,_ in enumerate(candidates[1][0]):\n",
    "            s2,p2 = candidates[1][0][i2],candidates[0][2][i2]\n",
    "            for i3,_ in enumerate(candidates[2][0]):\n",
    "                s3,p3 = candidates[2][0][i3],candidates[2][1][i3]\n",
    "                score = get_score(p1,p2,p3,c)*s1*s2*s3\n",
    "                if score > old_score:\n",
    "                    old_score = score\n",
    "    return old_score\n",
    "\n",
    "\n",
    "def get_score_for_constraint(c):\n",
    "    candidates = choosed_points_np[c[0]]\n",
    "    get_best_score(candidates,c[1])\n",
    "    return 5\n",
    "best_c_scores = torch.zeros(len(filtered_const))\n",
    "for i,v in enumerate(filtered_const):\n",
    "    if v > 0:\n",
    "        best_c_scores[i] = get_score_for_constraint(all_c[i])\n",
    "best_c_scores_masked = cons_score.masked_fill(best_c_scores < t4,0)\n",
    "clas_score_2 = torch.mv(const_to_class,best_c_scores_masked)\n",
    "clas_score_2_masked = (clas_score_2 > t5).float()\n",
    "clas_score_2_masked"
   ]
  },
  {
   "cell_type": "code",
   "execution_count": 156,
   "metadata": {},
   "outputs": [
    {
     "data": {
      "text/plain": [
       "torch.return_types.sort(\n",
       "values=tensor([[0.8421, 0.7489, 0.3651,  ..., 0.0000, 0.0000, 0.0000],\n",
       "        [0.8584, 0.7035, 0.4028,  ..., 0.0000, 0.0000, 0.0000],\n",
       "        [0.4829, 0.4375, 0.3959,  ..., 0.0000, 0.0000, 0.0000],\n",
       "        ...,\n",
       "        [0.5718, 0.4075, 0.3723,  ..., 0.0000, 0.0000, 0.0000],\n",
       "        [0.3092, 0.3061, 0.0000,  ..., 0.0000, 0.0000, 0.0000],\n",
       "        [0.4621, 0.3586, 0.3549,  ..., 0.0000, 0.0000, 0.0000]]),\n",
       "indices=tensor([[  1,   0,  37,  ...,  35,  36, 106],\n",
       "        [  1,   0,  84,  ...,  36,  38, 106],\n",
       "        [ 29,  84,   1,  ...,  37,  38, 106],\n",
       "        ...,\n",
       "        [  6,  27,  57,  ...,  39,  40, 106],\n",
       "        [ 24,  55,  73,  ...,  37,  38, 106],\n",
       "        [ 55,  77, 100,  ...,  37,  38, 106]]))"
      ]
     },
     "execution_count": 156,
     "metadata": {},
     "output_type": "execute_result"
    }
   ],
   "source": [
    "res_masked.sort(dim=1,descending=True)"
   ]
  },
  {
   "cell_type": "code",
   "execution_count": null,
   "metadata": {},
   "outputs": [],
   "source": []
  }
 ],
 "metadata": {
  "kernelspec": {
   "display_name": "Python 3",
   "language": "python",
   "name": "python3"
  },
  "language_info": {
   "codemirror_mode": {
    "name": "ipython",
    "version": 3
   },
   "file_extension": ".py",
   "mimetype": "text/x-python",
   "name": "python",
   "nbconvert_exporter": "python",
   "pygments_lexer": "ipython3",
   "version": "3.7.6"
  }
 },
 "nbformat": 4,
 "nbformat_minor": 4
}
